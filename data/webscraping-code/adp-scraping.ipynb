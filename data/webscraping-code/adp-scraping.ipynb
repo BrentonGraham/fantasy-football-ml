{
 "cells": [
  {
   "cell_type": "code",
   "execution_count": 1,
   "id": "ca793df4",
   "metadata": {},
   "outputs": [],
   "source": [
    "# Import packages\n",
    "import pandas as pd\n",
    "import numpy as np\n",
    "import math\n",
    "import requests\n",
    "from bs4 import BeautifulSoup\n",
    "import os"
   ]
  },
  {
   "cell_type": "markdown",
   "id": "00f4c6cf",
   "metadata": {},
   "source": [
    "# Notebook Description\n",
    "\n",
    "This script uses Beautiful Soup to scrape historical average draft position data from myfantasyleague.com. Based on hours of web searching, this website seems to be the only reputable site that contains such information (going back to the 2013 season). Data includes RB, WR, and TE positions and is specific to non-PPR redraft leagues. Additional data is inferred about \"position ambiguity\", which is a binary variable flagging whether or not a given player (drafted between rounds 3 through 9) was on a team in which another player (playing the same position) was drafted between rounds 3 through 9. Separate data sets are generated for all players and rookies only."
   ]
  },
  {
   "cell_type": "markdown",
   "id": "a9842203",
   "metadata": {},
   "source": [
    "# Web Scraping Historic ADP Data"
   ]
  },
  {
   "cell_type": "code",
   "execution_count": 2,
   "id": "ceb5ead4",
   "metadata": {},
   "outputs": [],
   "source": [
    "def myleague_adp_data(year: str, rookies: bool):\n",
    "    '''\n",
    "    Function to scrape ADP (average draft position) data from https://api.myfantasyleague.com/\n",
    "    This returns all players who were drafted in at least 25% of leagues\n",
    "    '''\n",
    "    \n",
    "    # Remove warnings\n",
    "    pd.options.mode.chained_assignment = None\n",
    "    \n",
    "    # Base url\n",
    "    base_url = 'https://api.myfantasyleague.com/'\n",
    "    \n",
    "    # All players or rookie-only url\n",
    "    url_spec = f'/reports?R=ADP&POS=RB%2BWR%2BTE&ROOKIES={int(rookies)}&INJURED=1&CUTOFF=25&FCOUNT=0&IS_PPR=1&IS_KEEPER=N&IS_MOCK=1&PERIOD=AUG15'\n",
    "    \n",
    "    # Extract table HTML from input URL\n",
    "    page = requests.get(base_url + str(year) + url_spec + '&PAGE=ALL')\n",
    "    soup = BeautifulSoup(page.text, 'lxml')\n",
    "    table = soup.find('table', attrs={'class': 'report'})\n",
    "    \n",
    "    # Convert table HTML to pandas df and clean up\n",
    "    df = pd.read_html(str(table))[0]\n",
    "    df.drop(df.tail(1).index, inplace=True) # Drop last row (Page: 1 2 3 4 ALL)\n",
    "    df['Year'] = year\n",
    "    df['ADP'] = df['Avg Pick'].astype(float)                                     # Rename column and force to float\n",
    "    df[['LastName', 'Player']] = df.Player.str.split(\", \", expand=True)          # Expand player info across columns\n",
    "    df[['FirstName', 'Team', 'Position']] = df.Player.str.split(expand=True)     # Ex: McCaffrey, Christian CAR RB\n",
    "    df['FirstName'] = df['FirstName'].str.replace('[^\\w\\s]', '', regex=True)     # Remove punctuation\n",
    "    df['LastName'] = df['LastName'].str.replace('[^\\w\\s]', '', regex=True)\n",
    "    df['LastName'] = df['LastName'].str.replace(' III', '', regex=True)          # with naming convention in\n",
    "    df['LastName'] = df['LastName'].str.replace(' II', '', regex=True)           # Edit names for consistency\n",
    "    df['LastName'] = df['LastName'].str.replace(' IV', '', regex=True)           # other data sets (no suffix)\n",
    "    df['LastName'] = df['LastName'].str.replace(' V', '', regex=True)\n",
    "    df['LastName'] = df['LastName'].str.replace(' Sr', '', regex=True)\n",
    "    df['LastName'] = df['LastName'].str.replace(' Jr', '', regex=True)\n",
    "    df = df[['FirstName', 'LastName', 'Team', 'Position', 'ADP', 'Year']]        # Order columns\n",
    "    df = df[(df.Team != \"FA\") & (df.Team != \"FA*\")]                              # Remove free agents\n",
    "    \n",
    "    # Convert team names for consistency\n",
    "    team_conv = {'GBP': 'GNB', 'JAC': 'JAX', 'KCC': 'KAN', 'NOS': 'NOR', 'NEP': 'NWE', 'RAM': 'LAR', 'SDC': 'SDG', 'TBB': 'TAM'}\n",
    "    df = df.replace({'Team': team_conv})\n",
    "    \n",
    "    return df\n"
   ]
  },
  {
   "cell_type": "code",
   "execution_count": 3,
   "id": "f2776b68",
   "metadata": {},
   "outputs": [],
   "source": [
    "def add_competition_data(adp_df):\n",
    "    '''\n",
    "    Function to get positional competition data for each player, including\n",
    "        - Positional rank on team\n",
    "        - ADP of teammates in same position\n",
    "        - Positional ambiguity (T/F)\n",
    "        - Handcuff (T/F) - not yet added\n",
    "    '''\n",
    "    \n",
    "    # Remove warnings\n",
    "    pd.options.mode.chained_assignment = None\n",
    "    \n",
    "    teams = list(set(adp_df.Team))\n",
    "    team_dfs = []\n",
    "    # Get positional competition data for each team by position\n",
    "    for team in teams:\n",
    "        team_pos_dfs = [] # List used to store each positional data frame create for a given team\n",
    "        positions = ['RB', 'WR', 'TE']\n",
    "        for position in positions:\n",
    "            \n",
    "            # Determine positional ranks of players with same team/position\n",
    "            pos_team_df = adp_df[(adp_df.Team == team) & (adp_df.Position == position)].reset_index(drop=True)\n",
    "            pos_team_df[\"TeamPosRank\"] = pos_team_df.index + 1\n",
    "            pos_team_df[\"TeamPosRank\"] = pos_team_df.Position + pos_team_df.TeamPosRank.astype(str)\n",
    "            \n",
    "            # Determine ADPs of the lead and secondary position players on the team\n",
    "            pos_adps = sorted(pos_team_df.ADP)\n",
    "            \n",
    "            # RB1/WR1/TE1 ADP in team will be the first element of pos_adps\n",
    "            try:\n",
    "                pos1_adp = pos_adps[0]\n",
    "            except:\n",
    "                pos1_adp = np.nan\n",
    "            \n",
    "            # RB2/WR2/TE2 ADP in team will be the second element of pos_adps\n",
    "            try:\n",
    "                pos2_adp = pos_adps[1]\n",
    "            except:\n",
    "                pos2_adp = np.nan\n",
    "            pos_team_df['PosRank1_ADP'] = pos1_adp\n",
    "            pos_team_df['PosRank2_ADP'] = pos2_adp\n",
    "            \n",
    "            # Determine if team position is ambiguous\n",
    "            # Ambiguous: Multiple players in a position drafted between rounds 3 through 9\n",
    "            try:\n",
    "                ambiguous = (pos1_adp > 24) & (pos1_adp <= 108) & (pos2_adp > 24) & (pos2_adp <= 108)\n",
    "            except:\n",
    "                ambiguous = False\n",
    "            pos_team_df['PosAmbiguity'] = ambiguous\n",
    "            \n",
    "            # Append data frame to list\n",
    "            team_pos_dfs.append(pos_team_df)\n",
    "            \n",
    "        team_dfs.append(pd.concat(team_pos_dfs))\n",
    "        \n",
    "    # Concatenate the data frames created for each team\n",
    "    output_df = pd.concat(team_dfs).reset_index(drop=True)\n",
    "    output_df['PosAmbiguity'] = np.where(output_df['ADP'] > 108, False, output_df['PosAmbiguity']) # Can't be ambiguous if not drafted after 9th rd\n",
    "    output_df.sort_values(by='ADP', inplace=True)\n",
    "    return output_df\n"
   ]
  },
  {
   "cell_type": "markdown",
   "id": "bdbeac66",
   "metadata": {},
   "source": [
    "## All Players"
   ]
  },
  {
   "cell_type": "code",
   "execution_count": 4,
   "id": "da646fae",
   "metadata": {},
   "outputs": [],
   "source": [
    "# Create data frame containing all ADP data from 2013 to 2022\n",
    "years = list(np.arange(2013, 2023))\n",
    "adp_df = [myleague_adp_data(year, rookies=False) for year in years] # Scrape all data\n",
    "adp_df = [add_competition_data(df) for df in adp_df] # Add competition data to all years\n",
    "adp_df = pd.concat(adp_df)                           # Concatenate data frames from each year\n",
    "adp_df.to_csv(os.getcwd() + \"/../myfantasyleague-adp-data-2013-2022.csv\", index=False)\n"
   ]
  },
  {
   "cell_type": "markdown",
   "id": "5f26ab72",
   "metadata": {},
   "source": [
    "## Rookies Only"
   ]
  },
  {
   "cell_type": "code",
   "execution_count": 5,
   "id": "54540966",
   "metadata": {},
   "outputs": [],
   "source": [
    "# Create data frame containing all ADP data from 2013 to 2022\n",
    "years = list(np.arange(2013, 2023))\n",
    "adpRookies_df = [myleague_adp_data(year, rookies=True) for year in years] # Scrape all data\n",
    "adpRookies_df = pd.concat(adpRookies_df)                                  # Concatenate data frames from each year\n",
    "adpRookies_df.to_csv(os.getcwd() + \"/../myfantasyleague-adp-data-rookies-2013-2022.csv\", index=False)\n"
   ]
  }
 ],
 "metadata": {
  "kernelspec": {
   "display_name": "Python 3",
   "language": "python",
   "name": "python3"
  },
  "language_info": {
   "codemirror_mode": {
    "name": "ipython",
    "version": 3
   },
   "file_extension": ".py",
   "mimetype": "text/x-python",
   "name": "python",
   "nbconvert_exporter": "python",
   "pygments_lexer": "ipython3",
   "version": "3.8.8"
  }
 },
 "nbformat": 4,
 "nbformat_minor": 5
}
