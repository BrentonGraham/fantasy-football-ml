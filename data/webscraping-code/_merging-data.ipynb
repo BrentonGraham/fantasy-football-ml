{
 "cells": [
  {
   "cell_type": "markdown",
   "id": "53601dfb",
   "metadata": {},
   "source": [
    "# Merging ADP & Season Statistics"
   ]
  },
  {
   "cell_type": "code",
   "execution_count": null,
   "id": "fbbb9802",
   "metadata": {},
   "outputs": [],
   "source": [
    "# Merging the data using \"inner\" method; will remove players who do not overlap between data sets\n",
    "all_data = adp_df.merge(stats_df, how=\"inner\")\n",
    "all_data = all_data.merge(qb_df, how=\"inner\")\n",
    "all_data = all_data[[\n",
    "    'FirstName', 'LastName', 'Team', 'Position', 'ADP', 'Year', 'TeamPosRank', 'PosRank1_ADP', \n",
    "    'PosRank2_ADP', 'PosAmbiguity', 'Age', 'GamesPlayed', 'PointsHalfPPR', 'PPG_HalfPPR', 'RushAtt', \n",
    "    'RushYds', 'RushYardsPerAtt', 'RushTD', 'Tgts', 'TgtsPerGame', 'Receptions', 'RecYds', 'YardsPerRec', \n",
    "    'RecTD', 'PointsPPR', 'PPG_PPR', 'QB', 'QB_Age', 'QB_QBR', 'AmbiguousQB']]\n",
    "all_data.to_csv(file_dest + \"/ADP&Stats&QB_2013-2021.csv\", index=False)\n"
   ]
  }
 ],
 "metadata": {
  "kernelspec": {
   "display_name": "Python 3",
   "language": "python",
   "name": "python3"
  },
  "language_info": {
   "codemirror_mode": {
    "name": "ipython",
    "version": 3
   },
   "file_extension": ".py",
   "mimetype": "text/x-python",
   "name": "python",
   "nbconvert_exporter": "python",
   "pygments_lexer": "ipython3",
   "version": "3.8.8"
  }
 },
 "nbformat": 4,
 "nbformat_minor": 5
}
