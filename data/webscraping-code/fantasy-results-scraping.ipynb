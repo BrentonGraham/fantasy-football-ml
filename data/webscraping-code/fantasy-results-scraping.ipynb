{
 "cells": [
  {
   "cell_type": "code",
   "execution_count": 1,
   "id": "1f003684",
   "metadata": {},
   "outputs": [],
   "source": [
    "# Import packages\n",
    "import pandas as pd\n",
    "import numpy as np\n",
    "import math\n",
    "import requests\n",
    "from bs4 import BeautifulSoup\n",
    "import os"
   ]
  },
  {
   "cell_type": "markdown",
   "id": "cfa32d42",
   "metadata": {},
   "source": [
    "# Notebook Description\n",
    "\n",
    "This script uses Beautiful Soup to scrape historical fantasy results and season statistics from pro-football-reference.com"
   ]
  },
  {
   "cell_type": "markdown",
   "id": "dc6403ab",
   "metadata": {},
   "source": [
    "# Web Scraping Season Stats"
   ]
  },
  {
   "cell_type": "code",
   "execution_count": 2,
   "id": "b11e7fd2",
   "metadata": {},
   "outputs": [],
   "source": [
    "def get_season_stats(year):\n",
    "    '''\n",
    "    Function to get seasonal stats for players\n",
    "    '''\n",
    "    \n",
    "    # Extract table HTML from input URL\n",
    "    page = requests.get('https://www.pro-football-reference.com/years/' + str(year) + '/fantasy.htm')\n",
    "    soup = BeautifulSoup(page.text, 'lxml')\n",
    "    table = soup.find('table', attrs={'id': 'fantasy'})\n",
    "    \n",
    "    # Convert table HTML to pandas df\n",
    "    df = pd.read_html(str(table))[0]\n",
    "    \n",
    "    # Rename columns\n",
    "    df.columns = df.columns.droplevel(0) # Remove multi-layer header\n",
    "    df.columns = [\n",
    "        'Rk', 'PlayerName', 'Team', 'Position', 'Age', 'GamesPlayed', 'GamesStarted', 'PassCmp', \n",
    "        'PassAtt', 'PassYds', 'PassTD', 'Int', 'RushAtt', 'RushYds', 'RushYardsPerAtt', 'RushTD', \n",
    "        'Tgts', 'Receptions', 'RecYds', 'YardsPerRec', 'RecTD', 'Fmb', 'FL', 'TD', '2PM', '2PP', \n",
    "        'FantPt', 'PointsPPR', 'DKPt', 'PointsHalfPPR', 'VBD', 'PosRank', 'OvRank']\n",
    "\n",
    "    # Selected relavent columns\n",
    "    df = df[[\n",
    "        'PlayerName', 'Team', 'Position', 'PosRank', 'Age', 'GamesPlayed', 'RushAtt', 'RushYds', \n",
    "        'RushYardsPerAtt', 'RushTD', 'Tgts', 'Receptions', 'RecYds', 'YardsPerRec', 'RecTD', \n",
    "        'PointsPPR', 'PointsHalfPPR']]\n",
    "    \n",
    "    # Select relevant player positions\n",
    "    df['Year'] = year\n",
    "    df = df[df.PlayerName != 'Player']\n",
    "    df = df[(df.Position == 'RB') | (df.Position == 'WR') | (df.Position == 'TE') | (df.Position == 'QB')]\n",
    "    df = df[(df.Team != '2TM') & (df.Team != '3TM') & (df.Team != '4TM')]\n",
    "    \n",
    "    # Convert data types\n",
    "    df = df.astype({'Age': 'int', 'GamesPlayed': 'int', 'PointsPPR': 'float', 'PointsHalfPPR': 'float',\n",
    "                    'RushAtt': 'int', 'RushYds': 'int', 'RushYardsPerAtt': 'float', 'RushTD': 'int', \n",
    "                    'Tgts': 'float', 'Receptions': 'int', 'RecYds': 'int', 'YardsPerRec': 'float', 'RecTD': 'int'})\n",
    "    df['PPG_PPR'] = round(df.PointsPPR / df.GamesPlayed, 2)\n",
    "    df['PPG_HalfPPR'] = round(df.PointsHalfPPR / df.GamesPlayed, 2)\n",
    "    df['TgtsPerGame'] = round(df.Tgts / df.GamesPlayed, 2)\n",
    "    \n",
    "    # Split name into columns and edit\n",
    "    df[['FirstName', 'LastName']] = df.PlayerName.str.split(\" \", n=1, expand=True)\n",
    "    df['FirstName'] = df['FirstName'].str.replace('[^\\w\\s]', '', regex=True)\n",
    "    df['LastName'] = df['LastName'].str.replace('[^\\w\\s]', '', regex=True)\n",
    "    df['LastName'] = df['LastName'].str.replace(' III', '', regex=True)            # with naming convention in\n",
    "    df['LastName'] = df['LastName'].str.replace(' II', '', regex=True)             # Edit names for consistency\n",
    "    df['LastName'] = df['LastName'].str.replace(' IV', '', regex=True)             # other data sets (no suffix)\n",
    "    df['LastName'] = df['LastName'].str.replace(' V', '', regex=True)\n",
    "    df['LastName'] = df['LastName'].str.replace(' Sr', '', regex=True)\n",
    "    df['LastName'] = df['LastName'].str.replace(' Jr', '', regex=True)\n",
    "    \n",
    "    # Reorder columns\n",
    "    df = df[[\n",
    "        'FirstName', 'LastName', 'Team', 'Position', 'PosRank', 'Year', 'Age', 'GamesPlayed', 'PointsPPR', \n",
    "        'PointsHalfPPR', 'PPG_PPR', 'PPG_HalfPPR', 'RushAtt', 'RushYds', 'RushYardsPerAtt', 'RushTD', \n",
    "        'Tgts', 'TgtsPerGame', 'Receptions', 'RecYds', 'YardsPerRec', 'RecTD']]\n",
    "    \n",
    "    return df\n"
   ]
  },
  {
   "cell_type": "code",
   "execution_count": 3,
   "id": "f3eb4394",
   "metadata": {},
   "outputs": [],
   "source": [
    "# Create data frame containing all stats from 2013 to 2022\n",
    "years = list(np.arange(2013, 2023))\n",
    "stats_df = [get_season_stats(year) for year in years] # Scrape all data\n",
    "stats_df = pd.concat(stats_df)                        # Concatenate data frames from each year\n",
    "stats_df.to_csv(os.getcwd() + \"/../season-statistics-2013-2022.csv\", index=False)\n"
   ]
  }
 ],
 "metadata": {
  "kernelspec": {
   "display_name": "Python 3",
   "language": "python",
   "name": "python3"
  },
  "language_info": {
   "codemirror_mode": {
    "name": "ipython",
    "version": 3
   },
   "file_extension": ".py",
   "mimetype": "text/x-python",
   "name": "python",
   "nbconvert_exporter": "python",
   "pygments_lexer": "ipython3",
   "version": "3.8.8"
  }
 },
 "nbformat": 4,
 "nbformat_minor": 5
}
