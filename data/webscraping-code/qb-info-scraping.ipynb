{
 "cells": [
  {
   "cell_type": "code",
   "execution_count": 1,
   "id": "c62b44ec",
   "metadata": {},
   "outputs": [],
   "source": [
    "# Import packages\n",
    "import pandas as pd\n",
    "import numpy as np\n",
    "import math\n",
    "import requests\n",
    "from bs4 import BeautifulSoup\n",
    "import os"
   ]
  },
  {
   "cell_type": "markdown",
   "id": "87427724",
   "metadata": {},
   "source": [
    "# Notebook Description\n",
    "\n",
    "This script uses Beautiful Soup to scrape QB ADP data from myfantasyleague.com and season-long \"top\" QB information from pro-football-reference.com"
   ]
  },
  {
   "cell_type": "markdown",
   "id": "8c22a463",
   "metadata": {},
   "source": [
    "# Web Scraping QB ADP Data"
   ]
  },
  {
   "cell_type": "code",
   "execution_count": 2,
   "id": "1704d9bd",
   "metadata": {},
   "outputs": [],
   "source": [
    "def myleague_qb_adp_data(year: str):\n",
    "    '''\n",
    "    Function to scrape QB ADP (average draft position) data from https://api.myfantasyleague.com/\n",
    "    This returns the top QBs from each team along with ADP data\n",
    "    '''\n",
    "    \n",
    "    # Remove warnings\n",
    "    pd.options.mode.chained_assignment = None\n",
    "    \n",
    "    # Base url\n",
    "    base_url = 'https://api.myfantasyleague.com/'\n",
    "    \n",
    "    # All players or rookie-only url\n",
    "    url_spec = f'/reports?R=ADP&POS=QB&ROOKIES=0&INJURED=1&CUTOFF=0&FCOUNT=0&IS_PPR=1&IS_KEEPER=N&IS_MOCK=1&PERIOD=START'\n",
    "    \n",
    "    # Extract table HTML from input URL\n",
    "    page = requests.get(base_url + str(year) + url_spec + '&PAGE=ALL')\n",
    "    soup = BeautifulSoup(page.text, 'lxml')\n",
    "    table = soup.find('table', attrs={'class': 'report'})\n",
    "    \n",
    "    # Convert table HTML to pandas df and clean up\n",
    "    df = pd.read_html(str(table))[0]\n",
    "    df.drop(df.tail(1).index, inplace=True) # Drop last row (Page: 1 2 3 4 ALL)\n",
    "    df['Year'] = year\n",
    "    df['TopQB_ADP'] = df['Avg Pick'].astype(float)                                # Rename column and force to float\n",
    "    df = df[~df.Player.str.contains('TMQB')]                                      # Remove \"team qb\" rows\n",
    "    df[['LastName', 'Player']] = df.Player.str.split(\", \", expand=True)           # Expand player info across columns\n",
    "    df[['FirstName', 'Team', 'Position']] = df.Player.str.split(expand=True)      # Ex: McCaffrey, Christian CAR RB\n",
    "    df = df.drop_duplicates(subset=['Team'], keep='first').reset_index(drop=True) # Keep top QB by ADP\n",
    "    df['FirstName'] = df['FirstName'].str.replace('[^\\w\\s]', '', regex=True)      # Remove punctuation\n",
    "    df['LastName'] = df['LastName'].str.replace('[^\\w\\s]', '', regex=True)        # with naming convention in\n",
    "    df['LastName'] = df['LastName'].str.replace(' III', '', regex=True)           # Edit names for consistency\n",
    "    df['LastName'] = df['LastName'].str.replace(' II', '', regex=True)            # other data sets (no suffix)\n",
    "    df['LastName'] = df['LastName'].str.replace(' IV', '', regex=True)\n",
    "    df['LastName'] = df['LastName'].str.replace(' V', '', regex=True)\n",
    "    df['LastName'] = df['LastName'].str.replace(' Sr', '', regex=True)\n",
    "    df['LastName'] = df['LastName'].str.replace(' Jr', '', regex=True)\n",
    "    df['QB'] = df.FirstName + ' ' + df.LastName\n",
    "    df = df[['QB', 'Team', 'Year', 'TopQB_ADP']]                                  # Select and order columns\n",
    "    \n",
    "    # Convert team names for consistency\n",
    "    team_conv = {'GBP': 'GNB', 'JAC': 'JAX', 'KCC': 'KAN', 'NOS': 'NOR', 'NEP': 'NWE', 'RAM': 'LAR', 'SDC': 'SDG', 'TBB': 'TAM'}\n",
    "    df = df.replace({'Team': team_conv})\n",
    "    \n",
    "    return df\n",
    "    "
   ]
  },
  {
   "cell_type": "code",
   "execution_count": 3,
   "id": "3785f6d5",
   "metadata": {},
   "outputs": [],
   "source": [
    "# Create data frame containing all stats from 2013 to 2022\n",
    "years = list(np.arange(2013, 2023))\n",
    "qb_df = [myleague_qb_adp_data(year) for year in years] # Scrape all data\n",
    "qb_df = pd.concat(qb_df)                               # Concatenate data frames from each year\n",
    "qb_df.to_csv(os.getcwd() + \"/../myfantasyleague-qb-adp-data-2013-2022.csv\", index=False)"
   ]
  },
  {
   "cell_type": "markdown",
   "id": "6296662a",
   "metadata": {},
   "source": [
    "# Web Scraping Historic Top QB Data"
   ]
  },
  {
   "cell_type": "code",
   "execution_count": 4,
   "id": "96327755",
   "metadata": {},
   "outputs": [],
   "source": [
    "def yearly_top_qb_stats(year):\n",
    "    '''\n",
    "    Function to get yearly top QB stats from each team\n",
    "    Can use this data as additional data for performance of WRs\n",
    "    '''\n",
    "    \n",
    "    # Extract table HTML from input URL\n",
    "    page = requests.get('https://www.pro-football-reference.com/years/' + str(year) + '/passing.htm')\n",
    "    soup = BeautifulSoup(page.text, 'lxml')\n",
    "    table = soup.find('table', attrs={'id': 'passing'})\n",
    "    \n",
    "    # Convert table HTML to pandas df\n",
    "    df = pd.read_html(str(table))[0]\n",
    "    df = df[(df.Tm != 'Tm') & (df.Tm != '2TM') & (df.Tm != '3TM') & (df.Tm != '4TM')]\n",
    "    df = df.astype({'Age': 'int', 'Att': 'int', 'QBR': 'float', 'GS': 'int'})\n",
    "\n",
    "    # Extract top QB information for each team (top QB will be the QB with the most attempts)\n",
    "    teams = list(set(df.Tm))\n",
    "    team_qbs = []\n",
    "    for team in teams:\n",
    "        sorted_df = df[df.Tm == team].sort_values(by='Att', ascending=False) # QB with most attempts at top\n",
    "        top_qb_df = sorted_df.head(1)\n",
    "        team_qbs.append(top_qb_df)  # Store each top QB df in a list\n",
    "    all_qb_df = pd.concat(team_qbs) # Concatentate all dfs\n",
    "\n",
    "    # Confirm there are 32 QBs in the concatenated df\n",
    "    assert(len(all_qb_df) == 32)\n",
    "\n",
    "    # Clean up output df\n",
    "    all_qb_df['Year'] = year\n",
    "    all_qb_df['Player'] = all_qb_df['Player'].str.replace('[^\\w\\s]', '', regex=True) # Remove punctuation\n",
    "    all_qb_df['AmbiguousQB'] = np.where(all_qb_df['GS'] <= 10, True, False)  # Ambiguous QB: Top QB starts <= 10 games\n",
    "    all_qb_df = all_qb_df[['Tm', 'Year', 'Player', 'Age', 'QBR', 'AmbiguousQB']]\n",
    "    all_qb_df.columns = ['Team', 'Year', 'QB', 'QB_Age', 'QB_QBR', 'AmbiguousQB']\n",
    "\n",
    "    return all_qb_df\n"
   ]
  },
  {
   "cell_type": "code",
   "execution_count": 5,
   "id": "85520272",
   "metadata": {},
   "outputs": [],
   "source": [
    "# Create data frame containing all stats from 2013 to 2022\n",
    "years = list(np.arange(2013, 2023))\n",
    "qb_df = [yearly_top_qb_stats(year) for year in years] # Scrape all data\n",
    "qb_df = pd.concat(qb_df)                              # Concatenate data frames from each year\n",
    "qb_df.to_csv(os.getcwd() + \"/../top-qb-info-2013-2022.csv\", index=False)\n"
   ]
  }
 ],
 "metadata": {
  "kernelspec": {
   "display_name": "Python 3",
   "language": "python",
   "name": "python3"
  },
  "language_info": {
   "codemirror_mode": {
    "name": "ipython",
    "version": 3
   },
   "file_extension": ".py",
   "mimetype": "text/x-python",
   "name": "python",
   "nbconvert_exporter": "python",
   "pygments_lexer": "ipython3",
   "version": "3.8.8"
  }
 },
 "nbformat": 4,
 "nbformat_minor": 5
}
