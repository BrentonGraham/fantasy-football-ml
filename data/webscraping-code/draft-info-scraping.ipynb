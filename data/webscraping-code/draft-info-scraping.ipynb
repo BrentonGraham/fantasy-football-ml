{
 "cells": [
  {
   "cell_type": "code",
   "execution_count": null,
   "id": "eae714e5",
   "metadata": {},
   "outputs": [],
   "source": [
    "# Import packages\n",
    "import pandas as pd\n",
    "import numpy as np\n",
    "import math\n",
    "import requests\n",
    "from bs4 import BeautifulSoup\n",
    "import os"
   ]
  },
  {
   "cell_type": "markdown",
   "id": "ffcda839",
   "metadata": {},
   "source": [
    "# Notebook Description\n",
    "\n",
    "This script uses Beautiful Soup to scrape draft information from pro-football-reference.com"
   ]
  },
  {
   "cell_type": "markdown",
   "id": "ddcdb257",
   "metadata": {},
   "source": [
    "# Web Scraping Draft Information"
   ]
  },
  {
   "cell_type": "code",
   "execution_count": null,
   "id": "327c954d",
   "metadata": {},
   "outputs": [],
   "source": [
    "def get_draft_info(year):\n",
    "    '''\n",
    "    Function to get draft information for all QBs, RBs and WRs\n",
    "    Can use this data as information about rookie season\n",
    "    '''\n",
    "    \n",
    "    # Extract table HTML from input URL\n",
    "    page = requests.get('https://www.pro-football-reference.com/years/' + str(year) + '/draft.htm')\n",
    "    soup = BeautifulSoup(page.text, 'lxml')\n",
    "    table = soup.find('table', attrs={'id': 'drafts'})\n",
    "\n",
    "    # Convert table HTML to pandas df\n",
    "    df = pd.read_html(str(table))[0]\n",
    "    df.columns = df.columns.droplevel(0)                                           # Remove multi-layer header\n",
    "    df = df[(df.Tm != 'Tm')]                                                       # Remove mid-table headers\n",
    "    df = df[(df.Pos == 'QB') | (df.Pos == 'RB') | (df.Pos == 'WR')]                # Select positions of interest\n",
    "    df['DraftYear'] = year                                                         # Set rookie year\n",
    "    df['Player'] = df['Player'].str.replace('[^\\w\\s]', '', regex=True)             # Remove punctuation\n",
    "    df['DraftRnd'] = df['Rnd']                                                     # Rename columns\n",
    "    df['DraftPick'] = df['Pick']\n",
    "    df['DraftTm'] = df['Tm']\n",
    "    df['DraftAge'] = df['Age']\n",
    "\n",
    "    # Split name into columns and edit\n",
    "    df[['FirstName', 'LastName']] = df.Player.str.split(\" \", n=1, expand=True)\n",
    "    df['FirstName'] = df['FirstName'].str.replace('[^\\w\\s]', '', regex=True)\n",
    "    df['LastName'] = df['LastName'].str.replace('[^\\w\\s]', '', regex=True)         # Remove punctuation\n",
    "    df['LastName'] = df['LastName'].str.replace(' III', '', regex=True)            # Edit names for consistency\n",
    "    df['LastName'] = df['LastName'].str.replace(' II', '', regex=True)             # with other data sets (no suffix)\n",
    "    df['LastName'] = df['LastName'].str.replace(' IV', '', regex=True)\n",
    "    df['LastName'] = df['LastName'].str.replace(' V', '', regex=True)\n",
    "    df['LastName'] = df['LastName'].str.replace(' Sr', '', regex=True)\n",
    "    df['LastName'] = df['LastName'].str.replace(' Jr', '', regex=True)\n",
    "\n",
    "    # Select columns of interest\n",
    "    df = df[['FirstName','LastName','DraftYear','DraftRnd','DraftPick','DraftTm','Pos','DraftAge','College/Univ']]\n",
    "    \n",
    "    return df\n",
    "    "
   ]
  },
  {
   "cell_type": "code",
   "execution_count": null,
   "id": "52eb7c22",
   "metadata": {},
   "outputs": [],
   "source": [
    "# Create data frame containing all draft information from 2000 to 2022\n",
    "years = list(np.arange(2000, 2023))\n",
    "df = [get_draft_info(year) for year in years] # Scrape all data\n",
    "df = pd.concat(df)                            # Concatenate data frames from each year\n",
    "df.to_csv(os.getcwd() + \"/../draft-information-2000-2022.csv\", index=False)"
   ]
  },
  {
   "cell_type": "markdown",
   "id": "d145ad15",
   "metadata": {},
   "source": [
    "# Remove Name Dupes"
   ]
  },
  {
   "cell_type": "code",
   "execution_count": null,
   "id": "dfbd3a47",
   "metadata": {},
   "outputs": [],
   "source": [
    "# Import data set outputted above (some times we get flagged for too many requests by pro-football-reference.com)\n",
    "df = pd.read_csv(os.getcwd() + \"/../draft-information-2000-2022.csv\")"
   ]
  },
  {
   "cell_type": "code",
   "execution_count": null,
   "id": "2a347a45",
   "metadata": {},
   "outputs": [],
   "source": [
    "# Remove the entries of players who share first and last names with 2013-2022 fantasy relevant players\n",
    "df['FirstLastYear'] = df.FirstName + df.LastName + df.DraftYear.astype(str)\n",
    "df = df[df.FirstLastYear != 'AdrianPeterson2002']\n",
    "df = df[df.FirstLastYear != 'SteveSmith2007']\n",
    "df = df[df.FirstLastYear != 'MikeWilliams2005']\n",
    "df = df[df.FirstLastYear != 'MikeThomas2009']\n",
    "df = df[df.FirstLastYear != 'MikeWilliams2010']\n",
    "df = df[[column for column in df.columns if column != 'FirstLastYear']]"
   ]
  },
  {
   "cell_type": "code",
   "execution_count": null,
   "id": "f0caa9e8",
   "metadata": {},
   "outputs": [],
   "source": [
    "df.to_csv(os.getcwd() + \"/../draft-information-2000-2022.deduped.csv\", index=False)"
   ]
  }
 ],
 "metadata": {
  "kernelspec": {
   "display_name": "Python 3",
   "language": "python",
   "name": "python3"
  },
  "language_info": {
   "codemirror_mode": {
    "name": "ipython",
    "version": 3
   },
   "file_extension": ".py",
   "mimetype": "text/x-python",
   "name": "python",
   "nbconvert_exporter": "python",
   "pygments_lexer": "ipython3",
   "version": "3.8.8"
  }
 },
 "nbformat": 4,
 "nbformat_minor": 5
}
